{
 "cells": [
  {
   "cell_type": "code",
   "execution_count": 2,
   "metadata": {
    "scrolled": false
   },
   "outputs": [
    {
     "name": "stdout",
     "output_type": "stream",
     "text": [
      "Successfully Appended, Congrats !\n"
     ]
    }
   ],
   "source": [
    "import pandas as pd\n",
    "import csv\n",
    "import xlsxwriter\n",
    "import datetime\n",
    "from openpyxl import load_workbook\n",
    "from openpyxl.utils.dataframe import dataframe_to_rows\n",
    "import os\n",
    "\n",
    "\n",
    "now=datetime.datetime.now()\n",
    "date = now.strftime(\"%d-%m-%Y\")\n",
    "time = now.strftime(\"%H:%M\")\n",
    "\n",
    "userpath=os.path.expanduser('~')\n",
    "\n",
    "\n",
    "Input_file = os.path.join(userpath,'Desktop\\\\Inventory_raw.csv')\n",
    "Inputdf=pd.read_csv(Input_file,'|')\n",
    "Inputdf.columns = Inputdf.columns.str.replace('.',' ')\n",
    "Inputdf.columns = Inputdf.columns.str.replace('_',' ')\n",
    "Inputdf.columns=Inputdf.columns.str.strip()\n",
    "Inputdf=Inputdf.dropna()\n",
    "Inputdf['date'] = date\n",
    "Inputdf['time'] = time\n",
    "\n",
    "Inputdf['store inventories stock status']= Inputdf['store inventories stock status'].replace(3.0,\"Available\")\n",
    "Inputdf['store inventories stock status']= Inputdf['store inventories stock status'].replace(0.0,\"OOS\")\n",
    "Inputdf['products published']=Inputdf['products published'].str.strip()\n",
    "Inputdf0=Inputdf[['product id','date','time','store inventories stock status','products published']]\n",
    "\n",
    "#Published but OOS\n",
    "OOS = Inputdf0['store inventories stock status']==\"OOS\"\n",
    "Available = Inputdf0['store inventories stock status']==\"Available\"\n",
    "Published = Inputdf0['products published']==\"t\"\n",
    "Not_Published=Inputdf0['products published']==\"f\"\n",
    "\n",
    "Inputdf2=Inputdf0[OOS&Published]\n",
    "Inputdf3=Inputdf0[Available&Not_Published]\n",
    "\n",
    "def pivot(inputdf):\n",
    "    inputdf = inputdf.pivot_table(index=['date','time'],columns=['store inventories stock status'],values='product id',aggfunc='count')\n",
    "    inputdf = inputdf.reset_index()\n",
    "    return inputdf\n",
    "\n",
    "Inputdf1=pivot(Inputdf0)\n",
    "Inputdf2 = pivot(Inputdf2)\n",
    "Inputdf3 = pivot(Inputdf3)\n",
    "\n",
    "#Backend Catalog Quality\n",
    "Inputdf1['Index']=(Inputdf1['Available']-Inputdf1['OOS'])/Inputdf1['Available']\n",
    "Inputdf1['# of unpublished inventory']=Inputdf2['OOS']\n",
    "Inputdf1['Published & OOS']=Inputdf3['Available']\n",
    "Inputdf1['Visibility on Web']=1-Inputdf1['Published & OOS']/(Inputdf1['Published & OOS']+Inputdf1['Available'])\n",
    "Inputdf1=Inputdf1[['date','time','Available','OOS','Index','# of unpublished inventory','Published & OOS','Visibility on Web']]\n",
    "\n",
    "if os.path.isfile(os.path.join(userpath,'Desktop\\\\output.xlsx')) == True:\n",
    "    #wb=load_workbook(r'C:\\\\Users\\AT104\\\\Desktop\\\\output.xlsx')\n",
    "    #sheet=wb.worksheets[0]\n",
    "    #row_count=sheet.max_row\n",
    "    #row_count=row_count+1\n",
    "    wb = load_workbook(r'C:\\\\Users\\AT104\\\\Desktop\\\\output.xlsx')\n",
    "    ws=wb.get_active_sheet()\n",
    "    for row in dataframe_to_rows(Inputdf1,index=False,header=False):\n",
    "        ws.append(row)\n",
    "        wb.save(os.path.join(userpath,'Desktop\\\\output.xlsx'))\n",
    "        print('Successfully Appended, Congrats !')\n",
    "else:\n",
    "    save_excel=pd.ExcelWriter(os.path.join(userpath,'Desktop\\\\output.xlsx',engine='xlsxwriter'))\n",
    "    Inputdf1.to_excel(save_excel,index=False,sheet_name=\"Sheet1\")\n",
    "    save_excel.save()\n",
    "    print('New File Created, Where did you put your old file ?')    \n"
   ]
  },
  {
   "cell_type": "code",
   "execution_count": null,
   "metadata": {
    "collapsed": true
   },
   "outputs": [],
   "source": []
  }
 ],
 "metadata": {
  "kernelspec": {
   "display_name": "Python 3",
   "language": "python",
   "name": "python3"
  },
  "language_info": {
   "codemirror_mode": {
    "name": "ipython",
    "version": 3
   },
   "file_extension": ".py",
   "mimetype": "text/x-python",
   "name": "python",
   "nbconvert_exporter": "python",
   "pygments_lexer": "ipython3",
   "version": "3.6.2"
  }
 },
 "nbformat": 4,
 "nbformat_minor": 2
}

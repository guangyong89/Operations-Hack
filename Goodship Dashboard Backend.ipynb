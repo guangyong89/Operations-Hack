{
 "cells": [
  {
   "cell_type": "code",
   "execution_count": 25,
   "metadata": {},
   "outputs": [
    {
     "ename": "ModuleNotFoundError",
     "evalue": "No module named 'getapidata'",
     "output_type": "error",
     "traceback": [
      "\u001b[1;31m---------------------------------------------------------------------------\u001b[0m",
      "\u001b[1;31mModuleNotFoundError\u001b[0m                       Traceback (most recent call last)",
      "\u001b[1;32m<ipython-input-25-33acda73dd4e>\u001b[0m in \u001b[0;36m<module>\u001b[1;34m()\u001b[0m\n\u001b[0;32m      4\u001b[0m \u001b[1;32mimport\u001b[0m \u001b[0mos\u001b[0m\u001b[1;33m\u001b[0m\u001b[0m\n\u001b[0;32m      5\u001b[0m \u001b[1;32mimport\u001b[0m \u001b[0msys\u001b[0m\u001b[1;33m\u001b[0m\u001b[0m\n\u001b[1;32m----> 6\u001b[1;33m \u001b[1;32mimport\u001b[0m \u001b[0mgetapidata\u001b[0m\u001b[1;33m\u001b[0m\u001b[0m\n\u001b[0m\u001b[0;32m      7\u001b[0m \u001b[1;33m\u001b[0m\u001b[0m\n\u001b[0;32m      8\u001b[0m \u001b[1;33m\u001b[0m\u001b[0m\n",
      "\u001b[1;31mModuleNotFoundError\u001b[0m: No module named 'getapidata'"
     ]
    }
   ],
   "source": [
    "import requests\n",
    "import pandas as pd\n",
    "import json\n",
    "import os\n",
    "import sys\n",
    "import getapidata\n",
    "\n",
    "\n",
    "\n",
    "sys.path.append(os.join.path('C:\\\\Users\\\\Guang'))\n",
    "\n",
    "clientid = '45SkMWr2YkWCCJbsQNv8'\n",
    "clientsecret = 'GPPqQSgFJm8rX74gDwG6DNjJ'\n",
    "url = 'https://honestbee.jp.looker.com:19999/api/3.0/login'\n",
    "params = {'client_id':clientid, 'client_secret':clientsecret}\n",
    "access_token = requests.post(url, params=params).json()['access_token']\n",
    "params = {'access_token': access_token}\n",
    "userpath = os.path.expanduser('~')\n",
    "\n",
    "cloudant_login=cloudantlogin(self,dbname)\n",
    "print('success')\n",
    "\n",
    "'''\n",
    "def call_looker (url_link,name):\n",
    "    name = requests.get(url_link,params=params).json()\n",
    "    name = pd.DataFrame(name)\n",
    "    name.columns.str.replace('.',\" \")\n",
    "    name.columns.str.replace('_',\" \")\n",
    "    print(name +\" loaded\")\n",
    "    return name\n",
    "\n",
    "response_client= call_looker('https://honestbee.jp.looker.com:19999/api/3.0/queries/649854/run/json?limit=999999','response_client')\n",
    "response_parcel= call_looker('https://honestbee.jp.looker.com:19999/api/3.0/queries/649894/run/json?limit=999999','response_parcel')\n",
    "response_status= call_looker('https://honestbee.jp.looker.com:19999/api/3.0/queries/650321/run/json?limit=999999','response_status')\n",
    "\n",
    "print('data extracted')\n",
    "\n",
    "def save_to_excel(df,name):\n",
    "    save_to_excel=pd.ExcelWriter(os.path.join(userpath,'Desktop\\\\GoodShip\\\\'+name+'.xlsx'),engine='xlsxwriter')\n",
    "    df.to_excel(save_to_excel,index=False,sheet_name=\"Sheet1\")\n",
    "    save_to_excel.save()\n",
    "    print(name +' exported')  \n",
    "    \n",
    "save_to_excel(response_client,'client')\n",
    "save_to_excel(response_parcel,'parcel')\n",
    "save_to_excel(response_status,'status') '''"
   ]
  },
  {
   "cell_type": "code",
   "execution_count": null,
   "metadata": {
    "collapsed": true
   },
   "outputs": [],
   "source": []
  }
 ],
 "metadata": {
  "kernelspec": {
   "display_name": "Python 3",
   "language": "python",
   "name": "python3"
  },
  "language_info": {
   "codemirror_mode": {
    "name": "ipython",
    "version": 3
   },
   "file_extension": ".py",
   "mimetype": "text/x-python",
   "name": "python",
   "nbconvert_exporter": "python",
   "pygments_lexer": "ipython3",
   "version": "3.6.3"
  }
 },
 "nbformat": 4,
 "nbformat_minor": 2
}
